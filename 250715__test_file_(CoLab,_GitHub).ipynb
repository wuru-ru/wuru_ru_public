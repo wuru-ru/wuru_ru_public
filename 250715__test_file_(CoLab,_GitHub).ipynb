{
  "nbformat": 4,
  "nbformat_minor": 0,
  "metadata": {
    "colab": {
      "provenance": [],
      "authorship_tag": "ABX9TyNU1TCz0zBCCFd/o8CWSGhk",
      "include_colab_link": true
    },
    "kernelspec": {
      "name": "python3",
      "display_name": "Python 3"
    },
    "language_info": {
      "name": "python"
    }
  },
  "cells": [
    {
      "cell_type": "markdown",
      "metadata": {
        "id": "view-in-github",
        "colab_type": "text"
      },
      "source": [
        "<a href=\"https://colab.research.google.com/github/wuru-ru/wuru_ru_public/blob/main/250715__test_file_(CoLab%2C_GitHub).ipynb\" target=\"_parent\"><img src=\"https://colab.research.google.com/assets/colab-badge.svg\" alt=\"Open In Colab\"/></a>"
      ]
    },
    {
      "cell_type": "code",
      "execution_count": 29,
      "metadata": {
        "colab": {
          "base_uri": "https://localhost:8080/"
        },
        "id": "GKzIBSvMK1HX",
        "outputId": "0068f013-aefa-4221-d5c1-84411f4fd9e6"
      },
      "outputs": [
        {
          "output_type": "stream",
          "name": "stdout",
          "text": [
            "4\n",
            "<__main__.animal object at 0x78a1fdd51bd0>\n"
          ]
        }
      ],
      "source": [
        "class animal:\n",
        "  def __init__(self, b):\n",
        "    self = b+2\n",
        "    print(self)\n",
        "\n",
        "  def __float__(self, c):\n",
        "    self = c+4\n",
        "    print(self)\n",
        "\n",
        "b_animal = animal(2)\n",
        "print(b_animal)"
      ]
    },
    {
      "cell_type": "code",
      "source": [
        "from google.colab import drive\n",
        "drive.mount('/content/drive')"
      ],
      "metadata": {
        "id": "tHVFSnxOWaU5"
      },
      "execution_count": null,
      "outputs": []
    },
    {
      "cell_type": "code",
      "source": [
        "print(\"Hello, CoLab! (Actually not hello)\")\n",
        "print(\"Python 데이터 분석 시작\")\n",
        "#변수 선언\n",
        "name = \"데이터 분석\"\n",
        "print(name + \"하는 척 하기!\")\n",
        "print(f\"{name}하는 척 하기!\")\n",
        "#간단 계산\n",
        "result = 10 + 20\n",
        "print(result)"
      ],
      "metadata": {
        "colab": {
          "base_uri": "https://localhost:8080/"
        },
        "id": "TMdS9QrARLFI",
        "outputId": "9163fc60-054c-4164-d5da-7aacd400e23d"
      },
      "execution_count": 37,
      "outputs": [
        {
          "output_type": "stream",
          "name": "stdout",
          "text": [
            "Hello, CoLab! (Actually not hello)\n",
            "Python 데이터 분석 시작\n",
            "데이터 분석하는 척 하기!\n",
            "데이터 분석하는 척 하기!\n",
            "30\n"
          ]
        }
      ]
    },
    {
      "cell_type": "markdown",
      "source": [
        "# Section 1\n",
        "## Test\n",
        "### test"
      ],
      "metadata": {
        "id": "geAKsdBvUsrT"
      }
    },
    {
      "cell_type": "code",
      "source": [
        "#리스트 생성\n",
        "fruits = [\"사과\", \"바나나\", \"오렌지\", \"메론\"]\n",
        "numbers = [1,2,3,4,5,6]\n",
        "\n",
        "#인덱싱 (요소 접근)\n",
        "print(fruits[0])\n",
        "print(fruits[-3])\n",
        "\n",
        "#요소 추가\n",
        "fruits.append(\"포도\")   # 뒤에서부터 삽입\n",
        "fruits.insert(3, \"참외\")  # 3번 위치에 삽입\n",
        "print(fruits[-1])"
      ],
      "metadata": {
        "colab": {
          "base_uri": "https://localhost:8080/"
        },
        "id": "BNrrPMfmUnpK",
        "outputId": "349208c7-757f-42ab-ed09-4263059f189f"
      },
      "execution_count": 45,
      "outputs": [
        {
          "output_type": "stream",
          "name": "stdout",
          "text": [
            "사과\n",
            "바나나\n",
            "포도\n"
          ]
        }
      ]
    },
    {
      "cell_type": "code",
      "source": [],
      "metadata": {
        "id": "36eMaNlGbUjs"
      },
      "execution_count": null,
      "outputs": []
    }
  ]
}